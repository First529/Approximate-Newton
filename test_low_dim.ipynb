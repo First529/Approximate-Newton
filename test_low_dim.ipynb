{
 "cells": [
  {
   "cell_type": "code",
   "execution_count": 1,
   "id": "8f40e8f7",
   "metadata": {},
   "outputs": [
    {
     "ename": "ModuleNotFoundError",
     "evalue": "No module named 'simple_function'",
     "output_type": "error",
     "traceback": [
      "\u001b[0;31m---------------------------------------------------------------------------\u001b[0m",
      "\u001b[0;31mModuleNotFoundError\u001b[0m                       Traceback (most recent call last)",
      "Input \u001b[0;32mIn [1]\u001b[0m, in \u001b[0;36m<cell line: 4>\u001b[0;34m()\u001b[0m\n\u001b[1;32m      2\u001b[0m \u001b[38;5;28;01mimport\u001b[39;00m \u001b[38;5;21;01mmatplotlib\u001b[39;00m\u001b[38;5;21;01m.\u001b[39;00m\u001b[38;5;21;01mpyplot\u001b[39;00m \u001b[38;5;28;01mas\u001b[39;00m \u001b[38;5;21;01mplt\u001b[39;00m\n\u001b[1;32m      3\u001b[0m \u001b[38;5;28;01mimport\u001b[39;00m \u001b[38;5;21;01mtime\u001b[39;00m\n\u001b[0;32m----> 4\u001b[0m \u001b[38;5;28;01mfrom\u001b[39;00m \u001b[38;5;21;01msimple_function\u001b[39;00m \u001b[38;5;28;01mimport\u001b[39;00m \u001b[38;5;241m*\u001b[39m \n\u001b[1;32m      6\u001b[0m \u001b[38;5;28;01mfrom\u001b[39;00m \u001b[38;5;21;01mtqdm\u001b[39;00m \u001b[38;5;28;01mimport\u001b[39;00m tqdm\n\u001b[1;32m      7\u001b[0m \u001b[38;5;28;01mfrom\u001b[39;00m \u001b[38;5;21;01malgorithms\u001b[39;00m\u001b[38;5;21;01m.\u001b[39;00m\u001b[38;5;21;01mgradient_descent\u001b[39;00m \u001b[38;5;28;01mimport\u001b[39;00m \u001b[38;5;241m*\u001b[39m\n",
      "\u001b[0;31mModuleNotFoundError\u001b[0m: No module named 'simple_function'"
     ]
    }
   ],
   "source": [
    "import numpy as np\n",
    "import matplotlib.pyplot as plt\n",
    "import time\n",
    "from objective_functions.simple_function import * \n",
    "\n",
    "from tqdm import tqdm\n",
    "from algorithms.gradient_descent import *\n",
    "from algorithms.nesterov_gradient_descent import *\n",
    "from algorithms.newton import *\n",
    "from algorithms.sub_sampled_newton import *\n",
    "from algorithms.nesterov_sub_sampled_newton import *\n",
    "from plots_and_weights.optimality_gaps import *\n",
    "from plots_and_weights.plot_graph import *"
   ]
  },
  {
   "cell_type": "code",
   "execution_count": null,
   "id": "e850dad8",
   "metadata": {},
   "outputs": [],
   "source": [
    "A = np.eye(2)\n",
    "b = np.zeros((2,1))"
   ]
  },
  {
   "cell_type": "code",
   "execution_count": null,
   "id": "8291691b",
   "metadata": {},
   "outputs": [],
   "source": [
    "f = f()"
   ]
  },
  {
   "cell_type": "code",
   "execution_count": null,
   "id": "f903c651",
   "metadata": {},
   "outputs": [],
   "source": [
    "d = 2\n",
    "A = np.diag([6,2])\n",
    "b = np.ones((2,))\n",
    "st = 0.5 # stop time\n",
    "ss = 20*d  # sampling size\n",
    "lambd = 0.00001\n",
    "alpha = 0.00005\n",
    "x_init = np.array([10., -20.])\n",
    "w, t = newton(A, b, x_init, f, lambd, st)\n",
    "w_stars = w[len(t)-1]"
   ]
  },
  {
   "cell_type": "code",
   "execution_count": null,
   "id": "b759ff13",
   "metadata": {},
   "outputs": [],
   "source": [
    "w0, t0 = newton(A, b, np.array([10., -20.]), f, lambd, st)\n",
    "w1, t1 = sub_sampled_newton_rnss(A, b, np.array([10., -20.]), f, lambd, st, ss)\n",
    "w2, t2 = gd(A, b, np.array([10., -20.]), f, lambd, st, alpha)\n",
    "w3, t3 = nesterov_gd(A, b, np.array([10., -20.]), f, lambd, st, alpha)\n",
    "w4, t4 = nesterov_sub_sampled_newton_rnss(A, b, np.array([10., -20.]), f, lambd, st, ss)"
   ]
  },
  {
   "cell_type": "code",
   "execution_count": null,
   "id": "792b131f",
   "metadata": {},
   "outputs": [],
   "source": [
    "ws = [w0,w1,w2,w3,w4]\n",
    "ts = [t0,t1,t2,t3,t4]\n",
    "ts_iter = [np.arange(len(t)) for t in ts]"
   ]
  },
  {
   "cell_type": "code",
   "execution_count": null,
   "id": "d61884fc",
   "metadata": {},
   "outputs": [],
   "source": [
    "w_gaps = compute_w_gaps(ws, ts, w_stars)\n",
    "plot_graph(ts, w_gaps, 'Time (s)', 'Optimality gap (w - w*)')\n",
    "plot_graph(ts_iter, w_gaps, 'Iteration', 'Optimality gap (w - w*)')"
   ]
  },
  {
   "cell_type": "code",
   "execution_count": null,
   "id": "b052b218",
   "metadata": {},
   "outputs": [],
   "source": [
    "f_gaps = compute_f_gaps(A, b, ws, ts, w_stars, f)\n",
    "plot_graph(ts, f_gaps, 'Time (s)', 'Optimality gap (F - F*)')\n",
    "plot_graph(ts_iter, f_gaps, 'Iteration', 'Optimality gap (F - F*)')"
   ]
  },
  {
   "cell_type": "code",
   "execution_count": null,
   "id": "b4abe8b0",
   "metadata": {},
   "outputs": [],
   "source": []
  }
 ],
 "metadata": {
  "kernelspec": {
   "display_name": "Python 3 (ipykernel)",
   "language": "python",
   "name": "python3"
  },
  "language_info": {
   "codemirror_mode": {
    "name": "ipython",
    "version": 3
   },
   "file_extension": ".py",
   "mimetype": "text/x-python",
   "name": "python",
   "nbconvert_exporter": "python",
   "pygments_lexer": "ipython3",
   "version": "3.9.12"
  }
 },
 "nbformat": 4,
 "nbformat_minor": 5
}
