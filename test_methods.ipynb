{
 "cells": [
  {
   "cell_type": "code",
   "execution_count": 1,
   "id": "4f07cf74",
   "metadata": {},
   "outputs": [],
   "source": [
    "import numpy as np\n",
    "import matplotlib.pyplot as plt\n",
    "import time\n",
    "from tqdm import tqdm"
   ]
  },
  {
   "cell_type": "code",
   "execution_count": 2,
   "id": "48f217c5",
   "metadata": {},
   "outputs": [],
   "source": [
    "def read_data(data_file_name):\n",
    "    prob_y = []\n",
    "    prob_x = []\n",
    "    for line in open(data_file_name):\n",
    "        line = line.split(None, 1)\n",
    "        # In case an instance with all zero features\n",
    "        if len(line) == 1: line += ['']\n",
    "        label, features = line\n",
    "        xi = {}\n",
    "        for e in features.split():\n",
    "            ind, val = e.split(\":\")\n",
    "            xi[int(ind)] = float(val)\n",
    "        prob_y += [float(label)]\n",
    "        prob_x += [xi]\n",
    "    d = max([max(x.keys()) for x in prob_x])\n",
    "    X = []\n",
    "    for f in prob_x:\n",
    "        x = np.zeros(d)\n",
    "        for k,v in f.items():\n",
    "            x[k-1] = v\n",
    "        X.append(x)\n",
    "    \n",
    "    return (np.array(prob_y),np.array(X))"
   ]
  },
  {
   "cell_type": "code",
   "execution_count": 3,
   "id": "43cffd62",
   "metadata": {},
   "outputs": [],
   "source": [
    "[b, A] = read_data('a9a.txt')\n",
    "n, d = A.shape\n",
    "A = np.hstack((np.ones((n,1)), A))\n",
    "d = d+1\n",
    "A = A / np.sqrt((A**2).sum(axis=0))"
   ]
  },
  {
   "cell_type": "code",
   "execution_count": 4,
   "id": "310f1da6",
   "metadata": {},
   "outputs": [],
   "source": [
    "class Ridge_Logistic_Regression():\n",
    "    \n",
    "    def __init__(self, lambd=0.1):\n",
    "        self.lambd = lambd\n",
    "        \n",
    "    def loss(self, A, b, x):\n",
    "        return np.sum(np.log(1 + np.exp(-b * (A @ x)))) + 0.5*self.lambd*(x**2).sum()\n",
    "        \n",
    "    def gradient(self, A, b, x):\n",
    "        return -A.T @ (b/(1 + np.exp(b * (A @ x))))\n",
    "#         return -b/(1 + np.exp(b*(A.dot(x))))\n",
    "        \n",
    "    def hessian(self, A, b, x):\n",
    "        '''\n",
    "        Computation in matrix form to find augmented diagonal matrix \n",
    "        '''\n",
    "        return (1/(1 + np.exp(b * (A @ x)))) * (1/(1 + np.exp(-b * (A @ x))))\n",
    "        \n",
    "    "
   ]
  },
  {
   "cell_type": "code",
   "execution_count": 5,
   "id": "57edb63a",
   "metadata": {},
   "outputs": [],
   "source": [
    "def row_norm_squares_sampling(A, b, x, rl):\n",
    "    '''\n",
    "    Block Norm Squares Sampling The first option is to construct a sampling distribution based on the\n",
    "    magnitude of Ai. That is, define\n",
    "    https://arxiv.org/pdf/1607.00559.pdf\n",
    "    '''\n",
    "    B = np.sqrt(rl.hessian(A, b, x))[:, np.newaxis] * A\n",
    "    B_norm_2 = np.linalg.norm(B, 'fro') ** 2\n",
    "    Bi_norm_2 = np.linalg.norm(B, axis=1) ** 2 # row-wise\n",
    "    \n",
    "    return Bi_norm_2/B_norm_2 # probability of selection for each i,...,n\n",
    "\n",
    "def conjugate_gd(A, b, x, tol):\n",
    "    rk = A @ x - b\n",
    "    pk = -rk\n",
    "    xk = x.copy()\n",
    "    k = 0\n",
    "    while(np.linalg.norm(rk) > tol):\n",
    "        alpha_k = (rk.T @ rk) / (pk.T @ A @ pk)# 4\n",
    "        \n",
    "        xk = xk + alpha_k * pk # 5\n",
    "        rk_1 = rk + alpha_k * A @ pk # 5\n",
    "        \n",
    "        beta_k_1 = (rk_1.T @ rk_1) / (rk.T @ rk)\n",
    "        pk = -rk_1 + beta_k_1 * pk\n",
    "        \n",
    "        rk = rk_1        \n",
    "        k = k + 1\n",
    "        \n",
    "    return xk\n",
    "     "
   ]
  },
  {
   "cell_type": "code",
   "execution_count": 6,
   "id": "c4cfd465",
   "metadata": {},
   "outputs": [],
   "source": [
    "def gd(A, b, x0, rl, lambd, iters):\n",
    "    x = x0\n",
    "    x_arr, t = [], []\n",
    "    x_arr.append(0)\n",
    "    t.append(0)\n",
    "    alpha = 0.5\n",
    "    start = time.time()\n",
    "    for j in range(iters):\n",
    "        g = rl.gradient(A,b,x) + lambd * x\n",
    "        x = x - alpha * g\n",
    "        x_arr.append(x.copy())\n",
    "        t.append(time.time() - start)\n",
    "    \n",
    "    end = time.time()\n",
    "    print(f'GD computation time: {end-start}')\n",
    "    return x_arr, t\n",
    "    \n",
    "def accelerated_gd(A, b, x0, rl, lambd, iters):\n",
    "    x_prev = x0\n",
    "    x = x0.copy()\n",
    "    x_arr, t = [], []\n",
    "    x_arr.append(0)\n",
    "    t.append(0)\n",
    "    alpha = 0.5\n",
    "    start = time.time()\n",
    "    for j in range(2, iters+2):\n",
    "#         beta = (j-2)/(j+1)\n",
    "        beta = 0.72\n",
    "        y = x + (beta * (x - x_prev))\n",
    "        g = rl.gradient(A,b,y) + lambd * y\n",
    "        x_prev = x\n",
    "        x = y - alpha * g\n",
    "        x_arr.append(x.copy())\n",
    "        t.append(time.time() - start)\n",
    "    \n",
    "    end = time.time()\n",
    "    print(f'AGD computation time: {end-start}')\n",
    "    return x_arr, t\n",
    "\n",
    "def newton(A, b, x0, rl, lambd, iters):\n",
    "    x_stars = x0\n",
    "    x_stars_arr, t = [], []\n",
    "    x_stars_arr.append(0)\n",
    "    t.append(0)\n",
    "    start = time.time()\n",
    "    for j in range(iters):\n",
    "        B = rl.hessian(A, b, x_stars) \n",
    "        H = (A.T * B) @ (A) + lambd * np.eye(d)\n",
    "        g = rl.gradient(A,b,x_stars) + lambd * x_stars\n",
    "        p = np.linalg.solve(H, -g)\n",
    "        x_stars += p\n",
    "        x_stars_arr.append(x_stars.copy())\n",
    "        t.append(time.time() - start)\n",
    "    \n",
    "    end = time.time()\n",
    "    print(f'Newton computation time: {end-start}')\n",
    "    return x_stars_arr, t \n",
    "\n",
    "def sub_sampled_newton_rnss(A, b, x0, rl, lambd, iters):\n",
    "    np.random.seed(42)\n",
    "    n, d = A.shape\n",
    "    x = x0\n",
    "    x_arr, t = [], []\n",
    "    x_arr.append(0)\n",
    "    t.append(0)\n",
    "    start = time.time()\n",
    "    for j in range(iters):\n",
    "        prob = row_norm_squares_sampling(A,b,x,rl)\n",
    "        q = np.minimum(20 * d * prob, 1)\n",
    "        i = np.random.rand(n) < q # sub-sampled indices\n",
    "        Ai = A[i,:] # features X\n",
    "        bi = b[i] # y\n",
    "        qi = q[i]\n",
    "        Bi = rl.hessian(Ai, bi, x) # refer to Ai(w) in paper\n",
    "        B_tilde = (np.sqrt(Bi)/np.sqrt(qi))[:,np.newaxis] * Ai\n",
    "        H_tilde = B_tilde.T @ B_tilde + lambd * np.eye(d)\n",
    "#         H_tilde = Ai.T @ (Ai * ((Bi/qi)[:,np.newaxis])) + lambd * np.eye(d)\n",
    "        g = rl.gradient(A,b,x) + lambd * x # g(w)\n",
    "        p = np.linalg.solve(H_tilde, -g) # might use conjugate gd??\n",
    "        x +=  p\n",
    "        x_arr.append(x.copy())\n",
    "        t.append(time.time() - start)\n",
    "        \n",
    "    end = time.time()\n",
    "    print(f'Sub-sampled Newton rnss computation time: {end-start}')\n",
    "    return x_arr, t"
   ]
  },
  {
   "cell_type": "code",
   "execution_count": 7,
   "id": "47ad35b6",
   "metadata": {},
   "outputs": [
    {
     "name": "stdout",
     "output_type": "stream",
     "text": [
      "Newton computation time: 18.385873079299927\n",
      "Newton computation time: 11.011793851852417\n",
      "Sub-sampled Newton rnss computation time: 3.0354530811309814\n",
      "GD computation time: 5.310932159423828\n",
      "AGD computation time: 5.5207109451293945\n"
     ]
    }
   ],
   "source": [
    "rl = Ridge_Logistic_Regression()\n",
    "iters = 25\n",
    "lambd = 0.1\n",
    "w_stars = newton(A, b, np.zeros(d), rl, lambd, 30)[0][29]\n",
    "\n",
    "w0, t0 = newton(A, b, np.zeros(d), rl, lambd, iters)\n",
    "w1, t1 = sub_sampled_newton_rnss(A, b, np.zeros(d), rl, lambd, iters)\n",
    "w2, t2 = gd(A, b, np.zeros(d), rl, lambd, 200)\n",
    "w3, t3 = accelerated_gd(A, b, np.zeros(d), rl, lambd, 200)"
   ]
  },
  {
   "cell_type": "code",
   "execution_count": 8,
   "id": "7cde1799",
   "metadata": {},
   "outputs": [],
   "source": [
    "ith = 26\n",
    "w_gaps0, w_gaps1, w_gaps2, w_gaps3  = [], [], [], []\n",
    "\n",
    "for k in range(ith):\n",
    "    w_gaps0.append(np.linalg.norm(w0[k] - w_stars)/np.linalg.norm(w_stars))\n",
    "    w_gaps1.append(np.linalg.norm(w1[k] - w_stars)/np.linalg.norm(w_stars))\n",
    "for k in range(201):\n",
    "    w_gaps2.append(np.linalg.norm(w2[k] - w_stars)/np.linalg.norm(w_stars))\n",
    "    w_gaps3.append(np.linalg.norm(w3[k] - w_stars)/np.linalg.norm(w_stars))"
   ]
  },
  {
   "cell_type": "code",
   "execution_count": 9,
   "id": "4a0b5f20",
   "metadata": {},
   "outputs": [
    {
     "data": {
      "text/plain": [
       "<matplotlib.legend.Legend at 0x12e90cfd0>"
      ]
     },
     "execution_count": 9,
     "metadata": {},
     "output_type": "execute_result"
    },
    {
     "data": {
      "image/png": "[encoded data removed]",
      "text/plain": [
       "<Figure size 864x432 with 1 Axes>"
      ]
     },
     "metadata": {
      "needs_background": "light"
     },
     "output_type": "display_data"
    }
   ],
   "source": [
    "fig = plt.figure(figsize=(12, 6)) # set figure size\n",
    "plt.yscale('log')\n",
    "plt.plot(t0 , w_gaps0, label='Newton') \n",
    "plt.plot(t1 , w_gaps1, label='Sub-sampled Newton') \n",
    "plt.plot(t2 , w_gaps2, label='GD') \n",
    "plt.plot(t3, w_gaps3, label='AGD') \n",
    "plt.legend()"
   ]
  },
  {
   "cell_type": "code",
   "execution_count": 10,
   "id": "24380163",
   "metadata": {},
   "outputs": [
    {
     "ename": "ValueError",
     "evalue": "matmul: Input operand 1 does not have enough dimensions (has 0, gufunc core with signature (n?,k),(k,m?)->(n?,m?) requires 1)",
     "output_type": "error",
     "traceback": [
      "\u001b[0;31m---------------------------------------------------------------------------\u001b[0m",
      "\u001b[0;31mValueError\u001b[0m                                Traceback (most recent call last)",
      "Input \u001b[0;32mIn [10]\u001b[0m, in \u001b[0;36m<cell line: 4>\u001b[0;34m()\u001b[0m\n\u001b[1;32m      3\u001b[0m f0, f1, f2, f3 \u001b[38;5;241m=\u001b[39m [], [], [], []\n\u001b[1;32m      4\u001b[0m \u001b[38;5;28;01mfor\u001b[39;00m k \u001b[38;5;129;01min\u001b[39;00m \u001b[38;5;28mrange\u001b[39m(ith):\n\u001b[0;32m----> 5\u001b[0m     f0\u001b[38;5;241m.\u001b[39mappend(\u001b[43mrl\u001b[49m\u001b[38;5;241;43m.\u001b[39;49m\u001b[43mloss\u001b[49m\u001b[43m(\u001b[49m\u001b[43mA\u001b[49m\u001b[43m,\u001b[49m\u001b[43m \u001b[49m\u001b[43mb\u001b[49m\u001b[43m,\u001b[49m\u001b[43m \u001b[49m\u001b[43mw0\u001b[49m\u001b[43m[\u001b[49m\u001b[43mk\u001b[49m\u001b[43m]\u001b[49m\u001b[43m)\u001b[49m \u001b[38;5;241m-\u001b[39m rl\u001b[38;5;241m.\u001b[39mloss(A, b, w_stars))\n\u001b[1;32m      6\u001b[0m \u001b[38;5;28;01mfor\u001b[39;00m k \u001b[38;5;129;01min\u001b[39;00m \u001b[38;5;28mrange\u001b[39m(ith\u001b[38;5;241m*\u001b[39m\u001b[38;5;241m2\u001b[39m):\n\u001b[1;32m      7\u001b[0m     f1\u001b[38;5;241m.\u001b[39mappend(rl\u001b[38;5;241m.\u001b[39mloss(A, b, w1[k]) \u001b[38;5;241m-\u001b[39m rl\u001b[38;5;241m.\u001b[39mloss(A, b, w_stars))\n",
      "Input \u001b[0;32mIn [4]\u001b[0m, in \u001b[0;36mRidge_Logistic_Regression.loss\u001b[0;34m(self, A, b, x)\u001b[0m\n\u001b[1;32m      6\u001b[0m \u001b[38;5;28;01mdef\u001b[39;00m \u001b[38;5;21mloss\u001b[39m(\u001b[38;5;28mself\u001b[39m, A, b, x):\n\u001b[0;32m----> 7\u001b[0m     \u001b[38;5;28;01mreturn\u001b[39;00m np\u001b[38;5;241m.\u001b[39msum(np\u001b[38;5;241m.\u001b[39mlog(\u001b[38;5;241m1\u001b[39m \u001b[38;5;241m+\u001b[39m np\u001b[38;5;241m.\u001b[39mexp(\u001b[38;5;241m-\u001b[39mb \u001b[38;5;241m*\u001b[39m (\u001b[43mA\u001b[49m\u001b[43m \u001b[49m\u001b[38;5;241;43m@\u001b[39;49m\u001b[43m \u001b[49m\u001b[43mx\u001b[49m)))) \u001b[38;5;241m+\u001b[39m \u001b[38;5;241m0.5\u001b[39m\u001b[38;5;241m*\u001b[39m\u001b[38;5;28mself\u001b[39m\u001b[38;5;241m.\u001b[39mlambd\u001b[38;5;241m*\u001b[39m(x\u001b[38;5;241m*\u001b[39m\u001b[38;5;241m*\u001b[39m\u001b[38;5;241m2\u001b[39m)\u001b[38;5;241m.\u001b[39msum()\n",
      "\u001b[0;31mValueError\u001b[0m: matmul: Input operand 1 does not have enough dimensions (has 0, gufunc core with signature (n?,k),(k,m?)->(n?,m?) requires 1)"
     ]
    }
   ],
   "source": [
    "ith = 25\n",
    "f_stars = []\n",
    "f0, f1, f2, f3 = [], [], [], []\n",
    "for k in range(ith):\n",
    "    f0.append(rl.loss(A, b, w0[k]) - rl.loss(A, b, w_stars))\n",
    "for k in range(ith*2):\n",
    "    f1.append(rl.loss(A, b, w1[k]) - rl.loss(A, b, w_stars))\n",
    "for k in range(ith*8):\n",
    "    f2.append(rl.loss(A, b, w2[k]) - rl.loss(A, b, w_stars))\n",
    "    f3.append(rl.loss(A, b, w3[k]) - rl.loss(A, b, w_stars))"
   ]
  },
  {
   "cell_type": "code",
   "execution_count": null,
   "id": "33c11c41",
   "metadata": {},
   "outputs": [],
   "source": [
    "fig = plt.figure(figsize=(12, 6)) # set figure size\n",
    "plt.yscale('log')\n",
    "plt.plot(t0 , f0, label='Newton') \n",
    "plt.plot(t1 , f1, label='Sub-sampled Newton') \n",
    "plt.plot(t2 , f2, label='GD') \n",
    "plt.plot(t3 , f3, label='AGD') \n",
    "plt.legend()"
   ]
  },
  {
   "cell_type": "code",
   "execution_count": null,
   "id": "3e401b3c",
   "metadata": {},
   "outputs": [],
   "source": []
  },
  {
   "cell_type": "code",
   "execution_count": null,
   "id": "ba9a1225",
   "metadata": {},
   "outputs": [],
   "source": []
  }
 ],
 "metadata": {
  "kernelspec": {
   "display_name": "Python 3 (ipykernel)",
   "language": "python",
   "name": "python3"
  },
  "language_info": {
   "codemirror_mode": {
    "name": "ipython",
    "version": 3
   },
   "file_extension": ".py",
   "mimetype": "text/x-python",
   "name": "python",
   "nbconvert_exporter": "python",
   "pygments_lexer": "ipython3",
   "version": "3.9.12"
  }
 },
 "nbformat": 4,
 "nbformat_minor": 5
}
